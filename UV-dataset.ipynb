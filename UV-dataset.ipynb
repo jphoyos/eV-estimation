{
 "cells": [
  {
   "cell_type": "markdown",
   "id": "20b9992c",
   "metadata": {},
   "source": [
    "# Prepare dataset\n",
    " Use of ML for Regression on UV-data\n",
    " Paper: Phase–Property Diagrams for Multicomponent Oxide Systems toward Materials Libraries\n"
   ]
  },
  {
   "cell_type": "code",
   "execution_count": 1,
   "id": "9a7ca709",
   "metadata": {},
   "outputs": [],
   "source": [
    "# Load the data\n",
    "import pandas as pd\n",
    "import numpy as np\n",
    "import matplotlib.pyplot as plt\n",
    "import time"
   ]
  },
  {
   "cell_type": "code",
   "execution_count": 2,
   "id": "6c5d5f96",
   "metadata": {},
   "outputs": [],
   "source": [
    "def data_load(data_path : str, sheet : str, type = 'xlsx') -> pd.DataFrame:\n",
    "    \"\"\"Load the data\"\"\"\n",
    "    if type == 'xlsx':\n",
    "        df = pd.read_excel(data_path, sheet_name=sheet)\n",
    "    elif type == 'csv':\n",
    "        df = pd.read_csv(data_path, )\n",
    "    return df\n",
    "\n",
    "def data_recovery(df: pd.DataFrame) -> np.array:\n",
    "    \"\"\"Get the x-axis and y-axis\"\"\"\n",
    "    data_x = df.iloc[:, ::2].T.to_numpy().astype(float)\n",
    "    data_y = df[df.columns[1::2]].T.to_numpy().astype(float)\n",
    "    return data_x, data_y\n",
    "\n",
    "def verify_samples(df, label):\n",
    "    n_samples = df.iloc[0,:].str.contains(label)\n",
    "    return "
   ]
  },
  {
   "cell_type": "code",
   "execution_count": 3,
   "id": "abff5eaa",
   "metadata": {},
   "outputs": [],
   "source": [
    "data_path = 'data/fluorite/All Data Band Gap 5 repetitions per sample-with all wells.xlsx'\n",
    "sheet = 'Kubelka-Munk Trans.'\n",
    "df_uv = data_load(data_path,sheet)"
   ]
  },
  {
   "cell_type": "markdown",
   "id": "a46ad746",
   "metadata": {},
   "source": [
    "# Analizamos cuantas muestras se tienen"
   ]
  },
  {
   "cell_type": "code",
   "execution_count": 4,
   "id": "408ad80f",
   "metadata": {},
   "outputs": [
    {
     "data": {
      "text/plain": [
       "(array([ 0.,  5., 25.]), array([  1, 105,   1], dtype=int64))"
      ]
     },
     "execution_count": 4,
     "metadata": {},
     "output_type": "execute_result"
    }
   ],
   "source": [
    "v_samples = np.zeros(107)\n",
    "for i in range(1,107):\n",
    "    label = 'Sample'+str(i)+'-'\n",
    "    n_samples = pd.Series(df_uv.columns).str.contains(label)\n",
    "    if n_samples.value_counts().shape[0]>1:\n",
    "        v_samples[i] = int(n_samples.value_counts()[1])\n",
    "np.unique(v_samples, return_counts=True)"
   ]
  },
  {
   "cell_type": "markdown",
   "id": "077225bc",
   "metadata": {},
   "source": [
    "OBS: La ultima muestra tiene 25 repeticiones realizadas"
   ]
  },
  {
   "cell_type": "code",
   "execution_count": 5,
   "id": "4a9a6b0b",
   "metadata": {},
   "outputs": [],
   "source": [
    "data_x, data_y = data_recovery(df_uv)"
   ]
  },
  {
   "cell_type": "code",
   "execution_count": 6,
   "id": "c0e59c6d",
   "metadata": {},
   "outputs": [
    {
     "data": {
      "text/plain": [
       "(560, 901)"
      ]
     },
     "execution_count": 6,
     "metadata": {},
     "output_type": "execute_result"
    }
   ],
   "source": [
    "data_x.shape"
   ]
  },
  {
   "cell_type": "code",
   "execution_count": 7,
   "id": "1bd8caef",
   "metadata": {},
   "outputs": [
    {
     "data": {
      "text/plain": [
       "[<matplotlib.lines.Line2D at 0x1c77f00db70>]"
      ]
     },
     "execution_count": 7,
     "metadata": {},
     "output_type": "execute_result"
    },
    {
     "data": {
      "image/png": "[encoded data removed]",
      "text/plain": [
       "<Figure size 432x288 with 1 Axes>"
      ]
     },
     "metadata": {
      "needs_background": "light"
     },
     "output_type": "display_data"
    }
   ],
   "source": [
    "plt.plot(data_x[10],data_y[10])"
   ]
  },
  {
   "cell_type": "code",
   "execution_count": 8,
   "id": "c19aa6f0",
   "metadata": {},
   "outputs": [],
   "source": [
    "data_path = 'data/fluorite/tabla de datos band gap.xlsx'\n",
    "df_fl_bgap = data_load(data_path,'Sheet1')"
   ]
  },
  {
   "cell_type": "code",
   "execution_count": 9,
   "id": "431e25a5",
   "metadata": {},
   "outputs": [
    {
     "data": {
      "text/plain": [
       "0      5.718±0.004\n",
       "1      4.828±0.011\n",
       "2       5.208±0.01\n",
       "3      3.376±0.003\n",
       "4      2.468±0.038\n",
       "          ...     \n",
       "101    2.079±0.024\n",
       "102    2.043±0.016\n",
       "103    2.007±0.015\n",
       "104     2.06±0.017\n",
       "105    2.069±0.026\n",
       "Name: band gap, Length: 106, dtype: object"
      ]
     },
     "execution_count": 9,
     "metadata": {},
     "output_type": "execute_result"
    }
   ],
   "source": [
    "df_fl_bgap['band gap']"
   ]
  },
  {
   "cell_type": "markdown",
   "id": "b1cb7bb4",
   "metadata": {},
   "source": [
    "## Target - Band Gap\n",
    "\n",
    "['average', 'standard deviation']"
   ]
  },
  {
   "cell_type": "code",
   "execution_count": 10,
   "id": "86fad793",
   "metadata": {},
   "outputs": [
    {
     "data": {
      "text/plain": [
       "array([[5.718e+00, 4.000e-03],\n",
       "       [4.828e+00, 1.100e-02],\n",
       "       [5.208e+00, 1.000e-02],\n",
       "       [3.376e+00, 3.000e-03],\n",
       "       [2.468e+00, 3.800e-02],\n",
       "       [4.977e+00, 1.000e-03],\n",
       "       [4.838e+00, 6.000e-03],\n",
       "       [3.234e+00, 5.000e-03],\n",
       "       [1.864e+00, 2.000e-02],\n",
       "       [1.992e+00, 1.500e-02],\n",
       "       [5.063e+00, 1.300e-02],\n",
       "       [2.004e+00, 5.000e-03],\n",
       "       [2.013e+00, 2.200e-02],\n",
       "       [3.300e+00, 1.100e-02],\n",
       "       [3.308e+00, 7.000e-03],\n",
       "       [2.015e+00, 1.200e-02],\n",
       "       [1.843e+00, 2.200e-02],\n",
       "       [1.920e+00, 2.800e-02],\n",
       "       [3.290e+00, 1.900e-02],\n",
       "       [3.299e+00, 1.000e-02],\n",
       "       [2.040e+00, 4.400e-02],\n",
       "       [5.010e+00, 1.800e-02],\n",
       "       [3.349e+00, 1.500e-02],\n",
       "       [2.059e+00, 2.500e-02],\n",
       "       [1.980e+00, 1.300e-02],\n",
       "       [2.031e+00, 2.700e-02],\n",
       "       [2.018e+00, 1.600e-02],\n",
       "       [1.988e+00, 3.300e-02],\n",
       "       [2.052e+00, 3.000e-02],\n",
       "       [2.251e+00, 6.000e-03],\n",
       "       [2.123e+00, 5.900e-02],\n",
       "       [2.074e+00, 3.600e-02],\n",
       "       [2.069e+00, 2.800e-02],\n",
       "       [2.029e+00, 1.600e-02],\n",
       "       [2.049e+00, 6.000e-03],\n",
       "       [2.042e+00, 1.300e-02],\n",
       "       [2.022e+00, 1.400e-02],\n",
       "       [2.030e+00, 5.000e-03],\n",
       "       [2.055e+00, 4.200e-02],\n",
       "       [2.032e+00, 4.200e-02],\n",
       "       [2.031e+00, 2.400e-02],\n",
       "       [2.058e+00, 1.700e-02],\n",
       "       [2.222e+00, 2.200e-02],\n",
       "       [2.146e+00, 2.600e-02],\n",
       "       [2.093e+00, 1.000e-02],\n",
       "       [2.019e+00, 4.400e-02],\n",
       "       [1.977e+00, 1.600e-02],\n",
       "       [2.125e+00, 1.200e-02],\n",
       "       [2.069e+00, 2.500e-02],\n",
       "       [2.042e+00, 6.000e-03],\n",
       "       [2.024e+00, 1.300e-02],\n",
       "       [1.923e+00, 2.100e-02],\n",
       "       [1.987e+00, 2.600e-02],\n",
       "       [2.012e+00, 2.300e-02],\n",
       "       [1.982e+00, 7.000e-03],\n",
       "       [2.002e+00, 1.100e-02],\n",
       "       [2.024e+00, 1.800e-02],\n",
       "       [1.971e+00, 4.100e-02],\n",
       "       [1.982e+00, 2.400e-02],\n",
       "       [1.982e+00, 2.000e-02],\n",
       "       [2.002e+00, 7.000e-03],\n",
       "       [1.940e+00, 2.300e-02],\n",
       "       [2.016e+00, 1.300e-02],\n",
       "       [2.136e+00, 2.900e-02],\n",
       "       [2.100e+00, 3.600e-02],\n",
       "       [2.223e+00, 4.000e-03],\n",
       "       [2.067e+00, 1.900e-02],\n",
       "       [2.267e+00, 1.600e-02],\n",
       "       [2.136e+00, 6.000e-03],\n",
       "       [2.258e+00, 2.100e-02],\n",
       "       [2.244e+00, 7.000e-03],\n",
       "       [2.110e+00, 6.000e-03],\n",
       "       [2.164e+00, 2.800e-02],\n",
       "       [2.029e+00, 1.300e-02],\n",
       "       [2.049e+00, 1.600e-02],\n",
       "       [2.010e+00, 1.500e-02],\n",
       "       [1.989e+00, 2.800e-02],\n",
       "       [2.080e+00, 1.300e-02],\n",
       "       [2.042e+00, 1.100e-02],\n",
       "       [2.106e+00, 3.000e-02],\n",
       "       [2.068e+00, 3.000e-03],\n",
       "       [2.165e+00, 3.600e-02],\n",
       "       [2.149e+00, 4.300e-02],\n",
       "       [2.206e+00, 3.100e-02],\n",
       "       [2.066e+00, 9.000e-03],\n",
       "       [2.245e+00, 5.000e-03],\n",
       "       [2.148e+00, 8.000e-03],\n",
       "       [2.243e+00, 1.400e-02],\n",
       "       [2.259e+00, 1.400e-02],\n",
       "       [2.077e+00, 1.700e-02],\n",
       "       [2.155e+00, 1.200e-02],\n",
       "       [2.073e+00, 6.000e-03],\n",
       "       [2.080e+00, 1.000e-02],\n",
       "       [1.970e+00, 2.000e-02],\n",
       "       [1.968e+00, 2.200e-02],\n",
       "       [1.940e+00, 3.800e-02],\n",
       "       [1.942e+00, 1.600e-02],\n",
       "       [1.995e+00, 1.100e-02],\n",
       "       [1.986e+00, 1.400e-02],\n",
       "       [1.974e+00, 1.300e-02],\n",
       "       [2.055e+00, 4.100e-02],\n",
       "       [2.079e+00, 2.400e-02],\n",
       "       [2.043e+00, 1.600e-02],\n",
       "       [2.007e+00, 1.500e-02],\n",
       "       [2.060e+00, 1.700e-02],\n",
       "       [2.069e+00, 2.600e-02]])"
      ]
     },
     "execution_count": 10,
     "metadata": {},
     "output_type": "execute_result"
    }
   ],
   "source": [
    "bang_gap_fl = np.empty(shape=[df_fl_bgap.shape[0],2])\n",
    "bang_gap_fl[:,0]=df_fl_bgap['band gap'].str.split(\"±\").str[0]\n",
    "bang_gap_fl[:,1]=df_fl_bgap['band gap'].str.split(\"±\").str[1]\n",
    "bang_gap_fl"
   ]
  },
  {
   "cell_type": "code",
   "execution_count": 11,
   "id": "fdb0addf",
   "metadata": {},
   "outputs": [
    {
     "data": {
      "text/plain": [
       "(106, 2)"
      ]
     },
     "execution_count": 11,
     "metadata": {},
     "output_type": "execute_result"
    }
   ],
   "source": [
    "bang_gap_fl.shape"
   ]
  },
  {
   "cell_type": "code",
   "execution_count": 12,
   "id": "d21ce919",
   "metadata": {},
   "outputs": [
    {
     "data": {
      "text/plain": [
       "(560, 901)"
      ]
     },
     "execution_count": 12,
     "metadata": {},
     "output_type": "execute_result"
    }
   ],
   "source": [
    "data_x.shape"
   ]
  },
  {
   "cell_type": "code",
   "execution_count": 13,
   "id": "556ff541",
   "metadata": {},
   "outputs": [],
   "source": [
    "# Dejamos las muestras que sirven 106 y pro cad amuestra se realizaron 5 repeticiones\n",
    "data_x = data_x[0:bang_gap_fl.shape[0]*5,:]\n",
    "data_y = data_y[0:bang_gap_fl.shape[0]*5,:]"
   ]
  },
  {
   "cell_type": "code",
   "execution_count": 14,
   "id": "b27f588c",
   "metadata": {},
   "outputs": [
    {
     "data": {
      "text/html": [
       "<div>\n",
       "<style scoped>\n",
       "    .dataframe tbody tr th:only-of-type {\n",
       "        vertical-align: middle;\n",
       "    }\n",
       "\n",
       "    .dataframe tbody tr th {\n",
       "        vertical-align: top;\n",
       "    }\n",
       "\n",
       "    .dataframe thead th {\n",
       "        text-align: right;\n",
       "    }\n",
       "</style>\n",
       "<table border=\"1\" class=\"dataframe\">\n",
       "  <thead>\n",
       "    <tr style=\"text-align: right;\">\n",
       "      <th></th>\n",
       "      <th>x</th>\n",
       "      <th>y</th>\n",
       "      <th>band_gap_mean</th>\n",
       "      <th>band_gap_std</th>\n",
       "    </tr>\n",
       "  </thead>\n",
       "  <tbody>\n",
       "    <tr>\n",
       "      <th>0</th>\n",
       "      <td>[1.12726309532197, 1.1282891794029504, 1.12931...</td>\n",
       "      <td>[0.0060821480926347695, 0.0037368379172620283,...</td>\n",
       "      <td>5.718</td>\n",
       "      <td>0.004</td>\n",
       "    </tr>\n",
       "    <tr>\n",
       "      <th>1</th>\n",
       "      <td>[1.12726309532197, 1.1282891794029504, 1.12931...</td>\n",
       "      <td>[0.0029711356613742385, 0.00526027078130591, 0...</td>\n",
       "      <td>4.828</td>\n",
       "      <td>0.011</td>\n",
       "    </tr>\n",
       "    <tr>\n",
       "      <th>2</th>\n",
       "      <td>[1.12726309532197, 1.1282891794029504, 1.12931...</td>\n",
       "      <td>[0.006912517453482746, 0.0014919367121750456, ...</td>\n",
       "      <td>5.208</td>\n",
       "      <td>0.010</td>\n",
       "    </tr>\n",
       "    <tr>\n",
       "      <th>3</th>\n",
       "      <td>[1.12726309532197, 1.1282891794029504, 1.12931...</td>\n",
       "      <td>[0.000584220105284513, 0.0012678679192115099, ...</td>\n",
       "      <td>3.376</td>\n",
       "      <td>0.003</td>\n",
       "    </tr>\n",
       "    <tr>\n",
       "      <th>4</th>\n",
       "      <td>[1.12726309532197, 1.1282891794029504, 1.12931...</td>\n",
       "      <td>[0.02162931471196681, 0.006063456275259739, 0....</td>\n",
       "      <td>2.468</td>\n",
       "      <td>0.038</td>\n",
       "    </tr>\n",
       "    <tr>\n",
       "      <th>...</th>\n",
       "      <td>...</td>\n",
       "      <td>...</td>\n",
       "      <td>...</td>\n",
       "      <td>...</td>\n",
       "    </tr>\n",
       "    <tr>\n",
       "      <th>525</th>\n",
       "      <td>[1.1272693495638397, 1.1282958218178423, 1.129...</td>\n",
       "      <td>[0.017990257672501318, 0.0207421147172066, 0.0...</td>\n",
       "      <td>NaN</td>\n",
       "      <td>NaN</td>\n",
       "    </tr>\n",
       "    <tr>\n",
       "      <th>526</th>\n",
       "      <td>[1.1272693495638397, 1.1282958218178423, 1.129...</td>\n",
       "      <td>[0.012789468742617965, 0.01073170945579353, 0....</td>\n",
       "      <td>NaN</td>\n",
       "      <td>NaN</td>\n",
       "    </tr>\n",
       "    <tr>\n",
       "      <th>527</th>\n",
       "      <td>[1.1272693495638397, 1.1282958218178423, 1.129...</td>\n",
       "      <td>[0.006453451706984381, 0.009193232381175842, 0...</td>\n",
       "      <td>NaN</td>\n",
       "      <td>NaN</td>\n",
       "    </tr>\n",
       "    <tr>\n",
       "      <th>528</th>\n",
       "      <td>[1.1272693495638397, 1.1282958218178423, 1.129...</td>\n",
       "      <td>[0.001983856795892142, 0.005797569886157499, 0...</td>\n",
       "      <td>NaN</td>\n",
       "      <td>NaN</td>\n",
       "    </tr>\n",
       "    <tr>\n",
       "      <th>529</th>\n",
       "      <td>[1.1272693495638397, 1.1282958218178423, 1.129...</td>\n",
       "      <td>[0.002323162988905185, 0.05241310854277714, 0....</td>\n",
       "      <td>NaN</td>\n",
       "      <td>NaN</td>\n",
       "    </tr>\n",
       "  </tbody>\n",
       "</table>\n",
       "<p>530 rows × 4 columns</p>\n",
       "</div>"
      ],
      "text/plain": [
       "                                                     x  \\\n",
       "0    [1.12726309532197, 1.1282891794029504, 1.12931...   \n",
       "1    [1.12726309532197, 1.1282891794029504, 1.12931...   \n",
       "2    [1.12726309532197, 1.1282891794029504, 1.12931...   \n",
       "3    [1.12726309532197, 1.1282891794029504, 1.12931...   \n",
       "4    [1.12726309532197, 1.1282891794029504, 1.12931...   \n",
       "..                                                 ...   \n",
       "525  [1.1272693495638397, 1.1282958218178423, 1.129...   \n",
       "526  [1.1272693495638397, 1.1282958218178423, 1.129...   \n",
       "527  [1.1272693495638397, 1.1282958218178423, 1.129...   \n",
       "528  [1.1272693495638397, 1.1282958218178423, 1.129...   \n",
       "529  [1.1272693495638397, 1.1282958218178423, 1.129...   \n",
       "\n",
       "                                                     y  band_gap_mean  \\\n",
       "0    [0.0060821480926347695, 0.0037368379172620283,...          5.718   \n",
       "1    [0.0029711356613742385, 0.00526027078130591, 0...          4.828   \n",
       "2    [0.006912517453482746, 0.0014919367121750456, ...          5.208   \n",
       "3    [0.000584220105284513, 0.0012678679192115099, ...          3.376   \n",
       "4    [0.02162931471196681, 0.006063456275259739, 0....          2.468   \n",
       "..                                                 ...            ...   \n",
       "525  [0.017990257672501318, 0.0207421147172066, 0.0...            NaN   \n",
       "526  [0.012789468742617965, 0.01073170945579353, 0....            NaN   \n",
       "527  [0.006453451706984381, 0.009193232381175842, 0...            NaN   \n",
       "528  [0.001983856795892142, 0.005797569886157499, 0...            NaN   \n",
       "529  [0.002323162988905185, 0.05241310854277714, 0....            NaN   \n",
       "\n",
       "     band_gap_std  \n",
       "0           0.004  \n",
       "1           0.011  \n",
       "2           0.010  \n",
       "3           0.003  \n",
       "4           0.038  \n",
       "..            ...  \n",
       "525           NaN  \n",
       "526           NaN  \n",
       "527           NaN  \n",
       "528           NaN  \n",
       "529           NaN  \n",
       "\n",
       "[530 rows x 4 columns]"
      ]
     },
     "execution_count": 14,
     "metadata": {},
     "output_type": "execute_result"
    }
   ],
   "source": [
    "df_fluorite = pd.concat([pd.DataFrame({'x':data_x.tolist(), 'y': data_y.tolist()}),\n",
    "pd.DataFrame({'band_gap_mean':bang_gap_fl[:,0].tolist(),'band_gap_std':bang_gap_fl[:,1]})], axis =1)\n",
    "df_fluorite"
   ]
  },
  {
   "cell_type": "code",
   "execution_count": 85,
   "id": "4ea891e8",
   "metadata": {},
   "outputs": [],
   "source": [
    "# Tener presente que la ultima muestra repitio el experimento 10 veces\n",
    "#np.savetxt('fluorite_x.csv', data_x, delimiter=',')\n",
    "np.savetxt('fluorite_y.csv', data_y, delimiter=',')\n",
    "np.savetxt('fluorite_bandgap.csv', bang_gap_fl, delimiter=',')\n",
    "df_fluorite.to_csv('dataset_fluorite.csv')"
   ]
  },
  {
   "cell_type": "markdown",
   "id": "86ed6077",
   "metadata": {},
   "source": [
    "# Data original"
   ]
  },
  {
   "cell_type": "code",
   "execution_count": null,
   "id": "23ef3fd3",
   "metadata": {},
   "outputs": [],
   "source": [
    "data_path = 'data/data different heat treatments/FL1_800C_air.csv'"
   ]
  },
  {
   "cell_type": "code",
   "execution_count": null,
   "id": "3ffe03f5",
   "metadata": {},
   "outputs": [
    {
     "name": "stderr",
     "output_type": "stream",
     "text": [
      "C:\\Users\\Familia\\AppData\\Local\\Temp\\ipykernel_13336\\1476385483.py:6: DtypeWarning: Columns (5,6,7,8,9,10,11,12,13,14,15,16,17,18,19,20,21,22,23,24,25,26,27,28,29,30,31,32,33,34,35,36,37,38,39,40,41,42,43,44,45,46,47,48,49,50,51,52,53,54,55,56,57,58,59,60,61,62,63,64,65,66,67,68,69,70,71,72,73,74,75,76,77,78,79,80,81,82,83,84,85,86,87,88,89,90,91,92,93,94,95,96,97,98,99,100,101,102,103,104,105,106,107,108,109,110,111,112,113,114,115,116,117,118,119,120,121,122,123,124,125,126,127,128,129,130,131,132,133,134,135,136,137,138,139,140,141,142,143,144,145,146,147,148,149,150,151,152,153,154,155,156,157,158,159,160,161,162,163,164,165,166,167,168,169,170,171,172,173,174,175,176,177,178,179,180,181,182,183,184,185,186,187,188,189,190,191,192,193,194,195,196,197,198,199,200,201,202,203,204,205,206,207,208,209,210,211,212,213,214,215,216,217,218,219,220,221,222,223,224,225,226,227,228,229,230,231,232,233,234,235,236,237,238,239,240,241,242,243,244,245,246,247,248,249,250,251,252,253,254,255,256,257,258,259,260,261,262,263,264,265,266,267,268,269,270,271,272,273,274,275,276,277,278,279,280,281,282,283,284,285,286,287,288,289,290,291,292,293,294,295,296,297,298,299,300,301,302,303,304,305,306,307,308,309,310,311,312,313,314,315,316,317,318,319,320,321,322,323,324,325,326,327,328,329,330,331,332,333,334,335,336,337,338,339,340,341,342,343,344,345,346,347,348,349,350,351,352,353,354,355,356,357,358,359,360,361,362,363,364,365,366,367,368,369,370,371,372,373,374,375,376,377,378,379,380,381,382,383,384,385,386,387,388,389,390,391,392,393,394,395,396,397,398,399,400,401,402,403,404,405,406,407,408,409,410,411,412,413,414,415,416,417,418,419,420,421,422,423,424,425,426,427,428,429,430,431,432,433,434,435,436,437,438,439,440,441,442,443,444,445,446,447,448,449,450,451,452,453,454,455,456,457,458,459,460,461,462,463,464,465,466,467,468,469,470,471,472,473,474,475,476,477,478,479,480,481,482,483,484,485,486,487,488,489,490,491,492,493,494,495,496,497,498,499,500,501,502,503,504,505,506,507,508,509,510,511,512,513,514,515,516,517,518,519,520,521,522,523,524,525,526,527,528,529,530,531,532,533,534,535,536,537,538,539,540,541,542,543,544,545,546,547,548,549,550,551,552,553,554,555,556,557,558,559,560,561,562,563,564,565,566,567,568,569,570,571,572,573,574,575,576,577,578,579,580,581,582,583,584,585,586,587,588,589,590,591,592,593,594,595,596,597,598,599,600,601,602,603,604,605,606,607,608,609,610,611,612,613,614,615,616,617,618,619,620,621,622,623,624,625,626,627,628,629,630,631,632,633,634,635,636,637,638,639,640,641,642,643,644,645,646,647,648,649,650,651,652,653,654,655,656,657,658,659,660,661,662,663,664,665,666,667,668,669,670,671,672,673,674,675,676,677,678,679,680,681,682,683,684,685,686,687,688,689,690,691,692,693,694,695,696,697,698,699,700,701,702,703,704,705,706,707,708,709,710,711,712,713,714,715,716,717,718,719,720,721,722,723,724,725,726,727,728,729,730,731,732,733,734,735,736,737,738,739,740,741,742,743,744,745,746,747,748,749,750,751,752,753,754,755,756,757,758,759,760,761,762,763,764,765,766,767,768,769,770,771,772,773,774,775,776,777,778,779,780,781,782,783,784,785,786,787,788,789,790,791,792,793,794,795,796,797,798,799,800,801,802,803,804,805,806,807,808,809,810,811) have mixed types. Specify dtype option on import or set low_memory=False.\n",
      "  df = pd.read_csv(data_path, )\n"
     ]
    }
   ],
   "source": [
    "df = data_load(data_path, '', 'csv')"
   ]
  },
  {
   "cell_type": "code",
   "execution_count": 16,
   "id": "7e2330e6",
   "metadata": {},
   "outputs": [],
   "source": [
    "# select only the data\n",
    "df = df.iloc[1:902,0:802]"
   ]
  },
  {
   "cell_type": "code",
   "execution_count": 18,
   "id": "1d1eb0e7",
   "metadata": {},
   "outputs": [
    {
     "data": {
      "text/plain": [
       "True     401\n",
       "False    401\n",
       "dtype: int64"
      ]
     },
     "execution_count": 18,
     "metadata": {},
     "output_type": "execute_result"
    }
   ],
   "source": [
    "# X and y correct\n",
    "n_samples = pd.Series(df.columns.str.contains('sample'))\n",
    "n_samples.value_counts()"
   ]
  },
  {
   "cell_type": "code",
   "execution_count": 49,
   "id": "3c7584a3",
   "metadata": {},
   "outputs": [],
   "source": [
    "df.iloc[:,0:2].to_csv('FL1_800C_air_correct.csv')"
   ]
  },
  {
   "cell_type": "code",
   "execution_count": 50,
   "id": "b50c1339",
   "metadata": {},
   "outputs": [],
   "source": [
    "data_x, data_y = data_recovery(df)"
   ]
  },
  {
   "cell_type": "code",
   "execution_count": 51,
   "id": "d1b1f992",
   "metadata": {},
   "outputs": [
    {
     "data": {
      "text/plain": [
       "[<matplotlib.lines.Line2D at 0x260b0f99ba0>]"
      ]
     },
     "execution_count": 51,
     "metadata": {},
     "output_type": "execute_result"
    },
    {
     "data": {
      "image/png": "[encoded data removed]",
      "text/plain": [
       "<Figure size 432x288 with 1 Axes>"
      ]
     },
     "metadata": {
      "needs_background": "light"
     },
     "output_type": "display_data"
    }
   ],
   "source": [
    "plt.plot(data_x[0], data_y[0])"
   ]
  },
  {
   "cell_type": "code",
   "execution_count": 52,
   "id": "e7e358ed",
   "metadata": {},
   "outputs": [],
   "source": [
    "def kubelka_munk_tr(x,y):\n",
    "    x = 1240/x\n",
    "    y = (((1-y/100)**2)/(2*(y/100)))*x**2\n",
    "    return x,y"
   ]
  },
  {
   "cell_type": "code",
   "execution_count": 53,
   "id": "6fa1ba49",
   "metadata": {},
   "outputs": [],
   "source": [
    "data_x_tr,data_y_tr = kubelka_munk_tr(data_x, data_y)"
   ]
  },
  {
   "cell_type": "code",
   "execution_count": 54,
   "id": "f5f93e21",
   "metadata": {},
   "outputs": [
    {
     "data": {
      "text/plain": [
       "(401, 901)"
      ]
     },
     "execution_count": 54,
     "metadata": {},
     "output_type": "execute_result"
    }
   ],
   "source": [
    "data_x_tr.shape"
   ]
  },
  {
   "cell_type": "code",
   "execution_count": 55,
   "id": "4dcae327",
   "metadata": {},
   "outputs": [
    {
     "data": {
      "text/plain": [
       "[<matplotlib.lines.Line2D at 0x26027057a00>]"
      ]
     },
     "execution_count": 55,
     "metadata": {},
     "output_type": "execute_result"
    },
    {
     "data": {
      "image/png": "[encoded data removed]",
      "text/plain": [
       "<Figure size 432x288 with 1 Axes>"
      ]
     },
     "metadata": {
      "needs_background": "light"
     },
     "output_type": "display_data"
    }
   ],
   "source": [
    "plt.plot(data_x_tr[0],data_y_tr[0])"
   ]
  },
  {
   "cell_type": "code",
   "execution_count": 63,
   "id": "9544faa0",
   "metadata": {},
   "outputs": [
    {
     "data": {
      "text/html": [
       "<div>\n",
       "<style scoped>\n",
       "    .dataframe tbody tr th:only-of-type {\n",
       "        vertical-align: middle;\n",
       "    }\n",
       "\n",
       "    .dataframe tbody tr th {\n",
       "        vertical-align: top;\n",
       "    }\n",
       "\n",
       "    .dataframe thead th {\n",
       "        text-align: right;\n",
       "    }\n",
       "</style>\n",
       "<table border=\"1\" class=\"dataframe\">\n",
       "  <thead>\n",
       "    <tr style=\"text-align: right;\">\n",
       "      <th></th>\n",
       "      <th>Band Gap Calculations (eV)</th>\n",
       "      <th>Unnamed: 1</th>\n",
       "      <th>UV-VIS</th>\n",
       "      <th>Unnamed: 3</th>\n",
       "      <th>Unnamed: 4</th>\n",
       "      <th>Unnamed: 5</th>\n",
       "    </tr>\n",
       "  </thead>\n",
       "  <tbody>\n",
       "    <tr>\n",
       "      <th>0</th>\n",
       "      <td>S.NO.</td>\n",
       "      <td>Compositions</td>\n",
       "      <td>800C_Air</td>\n",
       "      <td>800C_Ar</td>\n",
       "      <td>800C_H2</td>\n",
       "      <td>800C_Air_RHT</td>\n",
       "    </tr>\n",
       "    <tr>\n",
       "      <th>1</th>\n",
       "      <td>Sample 1</td>\n",
       "      <td>CeLaSmPr</td>\n",
       "      <td>2.170473</td>\n",
       "      <td>3.199777</td>\n",
       "      <td>3.287863</td>\n",
       "      <td>2.241662</td>\n",
       "    </tr>\n",
       "    <tr>\n",
       "      <th>2</th>\n",
       "      <td>Sample 2</td>\n",
       "      <td>CeLaSmY</td>\n",
       "      <td>3.323952</td>\n",
       "      <td>3.326635</td>\n",
       "      <td>3.355462</td>\n",
       "      <td>3.285199</td>\n",
       "    </tr>\n",
       "    <tr>\n",
       "      <th>3</th>\n",
       "      <td>Sample 3</td>\n",
       "      <td>CeLaPrY</td>\n",
       "      <td>2.136291</td>\n",
       "      <td>3.233013</td>\n",
       "      <td>3.291325</td>\n",
       "      <td>2.219511</td>\n",
       "    </tr>\n",
       "    <tr>\n",
       "      <th>4</th>\n",
       "      <td>Sample 4</td>\n",
       "      <td>CeSmPrY</td>\n",
       "      <td>2.104155</td>\n",
       "      <td>3.170098</td>\n",
       "      <td>2.873513</td>\n",
       "      <td>2.1756</td>\n",
       "    </tr>\n",
       "    <tr>\n",
       "      <th>...</th>\n",
       "      <td>...</td>\n",
       "      <td>...</td>\n",
       "      <td>...</td>\n",
       "      <td>...</td>\n",
       "      <td>...</td>\n",
       "      <td>...</td>\n",
       "    </tr>\n",
       "    <tr>\n",
       "      <th>60</th>\n",
       "      <td>Sample 60</td>\n",
       "      <td>Ce La Sm Y Zr Tb</td>\n",
       "      <td>3.039371</td>\n",
       "      <td>3.357841</td>\n",
       "      <td>2.716942</td>\n",
       "      <td>3.212295</td>\n",
       "    </tr>\n",
       "    <tr>\n",
       "      <th>61</th>\n",
       "      <td>Sample 61</td>\n",
       "      <td>Ce La Pr Y Zr Tb</td>\n",
       "      <td>2.620708</td>\n",
       "      <td>3.321508</td>\n",
       "      <td>2.742024</td>\n",
       "      <td>2.995356</td>\n",
       "    </tr>\n",
       "    <tr>\n",
       "      <th>62</th>\n",
       "      <td>Sample 62</td>\n",
       "      <td>Ce Sm Pr Y Zr Tb</td>\n",
       "      <td>2.640127</td>\n",
       "      <td>3.331179</td>\n",
       "      <td>2.64709</td>\n",
       "      <td>2.972491</td>\n",
       "    </tr>\n",
       "    <tr>\n",
       "      <th>63</th>\n",
       "      <td>Sample 63</td>\n",
       "      <td>La Sm Pr Y Zr Tb</td>\n",
       "      <td>2.259953</td>\n",
       "      <td>3.737616</td>\n",
       "      <td>4.009851</td>\n",
       "      <td>2.345369</td>\n",
       "    </tr>\n",
       "    <tr>\n",
       "      <th>64</th>\n",
       "      <td>Sample 64</td>\n",
       "      <td>Ce La Sm Pr Y Zr Tb</td>\n",
       "      <td>2.128849</td>\n",
       "      <td>3.239571</td>\n",
       "      <td>2.688379</td>\n",
       "      <td>2.924648</td>\n",
       "    </tr>\n",
       "  </tbody>\n",
       "</table>\n",
       "<p>65 rows × 6 columns</p>\n",
       "</div>"
      ],
      "text/plain": [
       "   Band Gap Calculations (eV)           Unnamed: 1    UV-VIS Unnamed: 3  \\\n",
       "0                       S.NO.         Compositions  800C_Air    800C_Ar   \n",
       "1                    Sample 1             CeLaSmPr  2.170473   3.199777   \n",
       "2                    Sample 2              CeLaSmY  3.323952   3.326635   \n",
       "3                    Sample 3              CeLaPrY  2.136291   3.233013   \n",
       "4                    Sample 4              CeSmPrY  2.104155   3.170098   \n",
       "..                        ...                  ...       ...        ...   \n",
       "60                  Sample 60     Ce La Sm Y Zr Tb  3.039371   3.357841   \n",
       "61                  Sample 61     Ce La Pr Y Zr Tb  2.620708   3.321508   \n",
       "62                  Sample 62     Ce Sm Pr Y Zr Tb  2.640127   3.331179   \n",
       "63                  Sample 63     La Sm Pr Y Zr Tb  2.259953   3.737616   \n",
       "64                  Sample 64  Ce La Sm Pr Y Zr Tb  2.128849   3.239571   \n",
       "\n",
       "   Unnamed: 4    Unnamed: 5  \n",
       "0     800C_H2  800C_Air_RHT  \n",
       "1    3.287863      2.241662  \n",
       "2    3.355462      3.285199  \n",
       "3    3.291325      2.219511  \n",
       "4    2.873513        2.1756  \n",
       "..        ...           ...  \n",
       "60   2.716942      3.212295  \n",
       "61   2.742024      2.995356  \n",
       "62    2.64709      2.972491  \n",
       "63   4.009851      2.345369  \n",
       "64   2.688379      2.924648  \n",
       "\n",
       "[65 rows x 6 columns]"
      ]
     },
     "execution_count": 63,
     "metadata": {},
     "output_type": "execute_result"
    }
   ],
   "source": [
    "data_path = 'data/data different heat treatments/FL1800C Data.xlsx'\n",
    "df_ht_bgap = data_load(data_path, 'Band Gap', 'xlsx')\n",
    "df_ht_bgap"
   ]
  },
  {
   "cell_type": "code",
   "execution_count": 65,
   "id": "6461e389",
   "metadata": {},
   "outputs": [
    {
     "data": {
      "text/plain": [
       "1     2.170473\n",
       "2     3.323952\n",
       "3     2.136291\n",
       "4     2.104155\n",
       "5     2.107265\n",
       "        ...   \n",
       "60    3.039371\n",
       "61    2.620708\n",
       "62    2.640127\n",
       "63    2.259953\n",
       "64    2.128849\n",
       "Name: UV-VIS, Length: 64, dtype: object"
      ]
     },
     "execution_count": 65,
     "metadata": {},
     "output_type": "execute_result"
    }
   ],
   "source": [
    "bang_gap_ht = df_ht_bgap['UV-VIS'].drop(0)\n",
    "bang_gap_ht"
   ]
  },
  {
   "cell_type": "markdown",
   "id": "59484225",
   "metadata": {},
   "source": [
    "### Correct samples\n",
    "\n",
    "Please consider upto sample 320 only, 5 iteration for each of the 64 samples. Rest samples were Cu and Zn oxides, which were later discarded. So we stopped the UV Vis any time after the 320th sample."
   ]
  },
  {
   "cell_type": "code",
   "execution_count": 62,
   "id": "a66f39f9",
   "metadata": {},
   "outputs": [],
   "source": [
    "data_x_tr = data_x_tr[:,0:320]\n",
    "data_y_tr = data_y_tr[:,0:320]"
   ]
  },
  {
   "cell_type": "code",
   "execution_count": null,
   "id": "822646ad",
   "metadata": {},
   "outputs": [],
   "source": [
    "np.savetxt('FL1800C_air_X.csv', data_x_tr, delimiter=',')\n",
    "np.savetxt('FL1800C_air_y.csv', data_y_tr, delimiter=',')\n",
    "np.savetxt('FL1800C_air_bandgap.csv', bang_gap_ht, delimiter=',')"
   ]
  },
  {
   "cell_type": "markdown",
   "id": "a0ade460",
   "metadata": {},
   "source": [
    "## Upsampling"
   ]
  },
  {
   "cell_type": "code",
   "execution_count": 70,
   "id": "6e28d3ff",
   "metadata": {},
   "outputs": [],
   "source": [
    "repetitions = 5\n",
    "bang_gap_uv = bang_gap_ht.repeat(repetitions).values"
   ]
  },
  {
   "cell_type": "code",
   "execution_count": 71,
   "id": "6f1b75a1",
   "metadata": {},
   "outputs": [
    {
     "data": {
      "text/plain": [
       "array([[1.12728349, 1.12830973, 1.1293386 , ..., 6.13822994, 6.16969192,\n",
       "        6.20025118],\n",
       "       [1.12728349, 1.12830973, 1.1293386 , ..., 6.13822994, 6.16969192,\n",
       "        6.20025118],\n",
       "       [1.12728349, 1.12830973, 1.1293386 , ..., 6.13822994, 6.16969192,\n",
       "        6.20025118],\n",
       "       ...,\n",
       "       [1.12728349, 1.12830973, 1.1293386 , ..., 6.13822994, 6.16969192,\n",
       "        6.20025118],\n",
       "       [1.12728349, 1.12830973, 1.1293386 , ..., 6.13822994, 6.16969192,\n",
       "        6.20025118],\n",
       "       [1.12728349, 1.12830973, 1.1293386 , ..., 6.13822994, 6.16969192,\n",
       "        6.20025118]])"
      ]
     },
     "execution_count": 71,
     "metadata": {},
     "output_type": "execute_result"
    }
   ],
   "source": [
    "# Let's make the Dataset\n",
    "x = data_x_tr[0:len(bang_gap_uv)]\n",
    "x"
   ]
  },
  {
   "cell_type": "code",
   "execution_count": null,
   "id": "b31bba47",
   "metadata": {},
   "outputs": [],
   "source": []
  }
 ],
 "metadata": {
  "kernelspec": {
   "display_name": "Python 3.10.5 64-bit",
   "language": "python",
   "name": "python3"
  },
  "language_info": {
   "codemirror_mode": {
    "name": "ipython",
    "version": 3
   },
   "file_extension": ".py",
   "mimetype": "text/x-python",
   "name": "python",
   "nbconvert_exporter": "python",
   "pygments_lexer": "ipython3",
   "version": "3.10.5"
  },
  "vscode": {
   "interpreter": {
    "hash": "519ac251aad38b9ee20fd03a9acb16b626785fe62df00e244847f9df42487f20"
   }
  }
 },
 "nbformat": 4,
 "nbformat_minor": 5
}
